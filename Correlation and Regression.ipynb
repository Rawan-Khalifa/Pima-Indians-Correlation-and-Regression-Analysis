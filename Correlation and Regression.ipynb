{
 "cells": [
  {
   "cell_type": "markdown",
   "id": "dd5aad1a",
   "metadata": {},
   "source": [
    "Appendix A : Data Pre-Processing and visualization\n",
    "\n",
    "Improting the libraries, reading and cleaning the data and performing initial summary statistics and visualization\n",
    "\n",
    "Note: While cleaning the data, I'm mainly interested in the 2 columns corresponding to the 2 variables. Therefore, I only check the missing values in these columns!"
   ]
  },
  {
   "cell_type": "code",
   "execution_count": 125,
   "id": "0d259f91",
   "metadata": {},
   "outputs": [],
   "source": [
    "#importing libraries \n",
    "\n",
    "import numpy as np\n",
    "import pandas as pd\n",
    "from scipy import stats\n",
    "from scipy.stats import norm\n",
    "import statistics\n",
    "import matplotlib.pyplot as plt\n",
    "import statsmodels.api as statsmodels # useful stats package with regression functions\n",
    "import seaborn as sns \n",
    "\n",
    "from tabulate import tabulate"
   ]
  },
  {
   "cell_type": "code",
   "execution_count": 9,
   "id": "1b5e95eb",
   "metadata": {},
   "outputs": [
    {
     "data": {
      "text/html": [
       "<div>\n",
       "<style scoped>\n",
       "    .dataframe tbody tr th:only-of-type {\n",
       "        vertical-align: middle;\n",
       "    }\n",
       "\n",
       "    .dataframe tbody tr th {\n",
       "        vertical-align: top;\n",
       "    }\n",
       "\n",
       "    .dataframe thead th {\n",
       "        text-align: right;\n",
       "    }\n",
       "</style>\n",
       "<table border=\"1\" class=\"dataframe\">\n",
       "  <thead>\n",
       "    <tr style=\"text-align: right;\">\n",
       "      <th></th>\n",
       "      <th>Pregnancies</th>\n",
       "      <th>Glucose</th>\n",
       "      <th>BloodPressure</th>\n",
       "      <th>SkinThickness</th>\n",
       "      <th>Insulin</th>\n",
       "      <th>BMI</th>\n",
       "      <th>DiabetesPedigreeFunction</th>\n",
       "      <th>Age</th>\n",
       "      <th>Outcome</th>\n",
       "    </tr>\n",
       "  </thead>\n",
       "  <tbody>\n",
       "    <tr>\n",
       "      <th>0</th>\n",
       "      <td>6</td>\n",
       "      <td>148</td>\n",
       "      <td>72</td>\n",
       "      <td>35</td>\n",
       "      <td>0</td>\n",
       "      <td>33.6</td>\n",
       "      <td>0.627</td>\n",
       "      <td>50</td>\n",
       "      <td>1</td>\n",
       "    </tr>\n",
       "    <tr>\n",
       "      <th>1</th>\n",
       "      <td>1</td>\n",
       "      <td>85</td>\n",
       "      <td>66</td>\n",
       "      <td>29</td>\n",
       "      <td>0</td>\n",
       "      <td>26.6</td>\n",
       "      <td>0.351</td>\n",
       "      <td>31</td>\n",
       "      <td>0</td>\n",
       "    </tr>\n",
       "    <tr>\n",
       "      <th>2</th>\n",
       "      <td>8</td>\n",
       "      <td>183</td>\n",
       "      <td>64</td>\n",
       "      <td>0</td>\n",
       "      <td>0</td>\n",
       "      <td>23.3</td>\n",
       "      <td>0.672</td>\n",
       "      <td>32</td>\n",
       "      <td>1</td>\n",
       "    </tr>\n",
       "    <tr>\n",
       "      <th>3</th>\n",
       "      <td>1</td>\n",
       "      <td>89</td>\n",
       "      <td>66</td>\n",
       "      <td>23</td>\n",
       "      <td>94</td>\n",
       "      <td>28.1</td>\n",
       "      <td>0.167</td>\n",
       "      <td>21</td>\n",
       "      <td>0</td>\n",
       "    </tr>\n",
       "    <tr>\n",
       "      <th>4</th>\n",
       "      <td>0</td>\n",
       "      <td>137</td>\n",
       "      <td>40</td>\n",
       "      <td>35</td>\n",
       "      <td>168</td>\n",
       "      <td>43.1</td>\n",
       "      <td>2.288</td>\n",
       "      <td>33</td>\n",
       "      <td>1</td>\n",
       "    </tr>\n",
       "    <tr>\n",
       "      <th>5</th>\n",
       "      <td>5</td>\n",
       "      <td>116</td>\n",
       "      <td>74</td>\n",
       "      <td>0</td>\n",
       "      <td>0</td>\n",
       "      <td>25.6</td>\n",
       "      <td>0.201</td>\n",
       "      <td>30</td>\n",
       "      <td>0</td>\n",
       "    </tr>\n",
       "    <tr>\n",
       "      <th>6</th>\n",
       "      <td>3</td>\n",
       "      <td>78</td>\n",
       "      <td>50</td>\n",
       "      <td>32</td>\n",
       "      <td>88</td>\n",
       "      <td>31.0</td>\n",
       "      <td>0.248</td>\n",
       "      <td>26</td>\n",
       "      <td>1</td>\n",
       "    </tr>\n",
       "    <tr>\n",
       "      <th>7</th>\n",
       "      <td>10</td>\n",
       "      <td>115</td>\n",
       "      <td>0</td>\n",
       "      <td>0</td>\n",
       "      <td>0</td>\n",
       "      <td>35.3</td>\n",
       "      <td>0.134</td>\n",
       "      <td>29</td>\n",
       "      <td>0</td>\n",
       "    </tr>\n",
       "    <tr>\n",
       "      <th>8</th>\n",
       "      <td>2</td>\n",
       "      <td>197</td>\n",
       "      <td>70</td>\n",
       "      <td>45</td>\n",
       "      <td>543</td>\n",
       "      <td>30.5</td>\n",
       "      <td>0.158</td>\n",
       "      <td>53</td>\n",
       "      <td>1</td>\n",
       "    </tr>\n",
       "    <tr>\n",
       "      <th>9</th>\n",
       "      <td>8</td>\n",
       "      <td>125</td>\n",
       "      <td>96</td>\n",
       "      <td>0</td>\n",
       "      <td>0</td>\n",
       "      <td>0.0</td>\n",
       "      <td>0.232</td>\n",
       "      <td>54</td>\n",
       "      <td>1</td>\n",
       "    </tr>\n",
       "  </tbody>\n",
       "</table>\n",
       "</div>"
      ],
      "text/plain": [
       "   Pregnancies  Glucose  BloodPressure  SkinThickness  Insulin   BMI  \\\n",
       "0            6      148             72             35        0  33.6   \n",
       "1            1       85             66             29        0  26.6   \n",
       "2            8      183             64              0        0  23.3   \n",
       "3            1       89             66             23       94  28.1   \n",
       "4            0      137             40             35      168  43.1   \n",
       "5            5      116             74              0        0  25.6   \n",
       "6            3       78             50             32       88  31.0   \n",
       "7           10      115              0              0        0  35.3   \n",
       "8            2      197             70             45      543  30.5   \n",
       "9            8      125             96              0        0   0.0   \n",
       "\n",
       "   DiabetesPedigreeFunction  Age  Outcome  \n",
       "0                     0.627   50        1  \n",
       "1                     0.351   31        0  \n",
       "2                     0.672   32        1  \n",
       "3                     0.167   21        0  \n",
       "4                     2.288   33        1  \n",
       "5                     0.201   30        0  \n",
       "6                     0.248   26        1  \n",
       "7                     0.134   29        0  \n",
       "8                     0.158   53        1  \n",
       "9                     0.232   54        1  "
      ]
     },
     "execution_count": 9,
     "metadata": {},
     "output_type": "execute_result"
    }
   ],
   "source": [
    "#importing the dataset and reading it as a dataframe\n",
    "\n",
    "data = pd.read_csv(\"https://course-resources.minerva.edu/uploaded_files/mu/00294342-2873/diabetes.csv\")  \n",
    "\n",
    "data.head(10) #showing the first 10 rows of the data"
   ]
  },
  {
   "cell_type": "markdown",
   "id": "62b99824",
   "metadata": {},
   "source": [
    "Data visualization and descriptive statistics without cleaning the data"
   ]
  },
  {
   "cell_type": "code",
   "execution_count": 10,
   "id": "bc5fc8cb",
   "metadata": {
    "scrolled": false
   },
   "outputs": [
    {
     "name": "stdout",
     "output_type": "stream",
     "text": [
      "The sample size =  768\n"
     ]
    }
   ],
   "source": [
    "print(\"The sample size = \", len(data)) #print the dataset sample size"
   ]
  },
  {
   "cell_type": "code",
   "execution_count": 46,
   "id": "614ba13a",
   "metadata": {},
   "outputs": [
    {
     "data": {
      "text/html": [
       "<div>\n",
       "<style scoped>\n",
       "    .dataframe tbody tr th:only-of-type {\n",
       "        vertical-align: middle;\n",
       "    }\n",
       "\n",
       "    .dataframe tbody tr th {\n",
       "        vertical-align: top;\n",
       "    }\n",
       "\n",
       "    .dataframe thead th {\n",
       "        text-align: right;\n",
       "    }\n",
       "</style>\n",
       "<table border=\"1\" class=\"dataframe\">\n",
       "  <thead>\n",
       "    <tr style=\"text-align: right;\">\n",
       "      <th></th>\n",
       "      <th>Glucose</th>\n",
       "      <th>BloodPressure</th>\n",
       "    </tr>\n",
       "  </thead>\n",
       "  <tbody>\n",
       "    <tr>\n",
       "      <th>count</th>\n",
       "      <td>767.000000</td>\n",
       "      <td>767.000000</td>\n",
       "    </tr>\n",
       "    <tr>\n",
       "      <th>mean</th>\n",
       "      <td>120.859192</td>\n",
       "      <td>69.101695</td>\n",
       "    </tr>\n",
       "    <tr>\n",
       "      <th>std</th>\n",
       "      <td>31.978468</td>\n",
       "      <td>19.368155</td>\n",
       "    </tr>\n",
       "    <tr>\n",
       "      <th>min</th>\n",
       "      <td>0.000000</td>\n",
       "      <td>0.000000</td>\n",
       "    </tr>\n",
       "    <tr>\n",
       "      <th>25%</th>\n",
       "      <td>99.000000</td>\n",
       "      <td>62.000000</td>\n",
       "    </tr>\n",
       "    <tr>\n",
       "      <th>50%</th>\n",
       "      <td>117.000000</td>\n",
       "      <td>72.000000</td>\n",
       "    </tr>\n",
       "    <tr>\n",
       "      <th>75%</th>\n",
       "      <td>140.000000</td>\n",
       "      <td>80.000000</td>\n",
       "    </tr>\n",
       "    <tr>\n",
       "      <th>max</th>\n",
       "      <td>199.000000</td>\n",
       "      <td>122.000000</td>\n",
       "    </tr>\n",
       "  </tbody>\n",
       "</table>\n",
       "</div>"
      ],
      "text/plain": [
       "          Glucose  BloodPressure\n",
       "count  767.000000     767.000000\n",
       "mean   120.859192      69.101695\n",
       "std     31.978468      19.368155\n",
       "min      0.000000       0.000000\n",
       "25%     99.000000      62.000000\n",
       "50%    117.000000      72.000000\n",
       "75%    140.000000      80.000000\n",
       "max    199.000000     122.000000"
      ]
     },
     "execution_count": 46,
     "metadata": {},
     "output_type": "execute_result"
    }
   ],
   "source": [
    "#get descriptive stats for the 2 variables\n",
    "\n",
    "data.loc[:,['Glucose', 'BloodPressure']].describe()"
   ]
  },
  {
   "cell_type": "code",
   "execution_count": 47,
   "id": "81bb8a6b",
   "metadata": {},
   "outputs": [],
   "source": [
    "#get descriptive stats of interest to any variable \n",
    "\n",
    "#define the function returing a table of the useful descriptive stats\n",
    "def descriptive_stats(variable): \n",
    "    \n",
    "    count = len(variable) #sample size\n",
    "    mean = np.mean(variable)  #sample mean\n",
    "    median = np.median (variable)  # sample median\n",
    "    mode = statistics.mode (variable)  #sample mode\n",
    "    std = np.std (variable, ddof = 1)  #sample standard deviation\n",
    "    the_range = max(variable) - min(variable)  #sample range\n",
    "    \n",
    "    \n",
    "    #create a table of the descriptive statistics\n",
    "   \n",
    "    descriptive_statistics = {\n",
    "        'count': [count],\n",
    "        'mean': [round(mean, 3)],   \n",
    "        'median': [round (median, 3)],\n",
    "        'mode': [round (mode, 3)],\n",
    "        'range': [round(the_range, 3)],\n",
    "        'sample std': [round(std, 3)],\n",
    "    \n",
    "    }\n",
    "    our_table = pd.DataFrame(data= descriptive_statistics)\n",
    "    return our_table"
   ]
  },
  {
   "cell_type": "code",
   "execution_count": 48,
   "id": "a649ba06",
   "metadata": {},
   "outputs": [
    {
     "data": {
      "text/html": [
       "<div>\n",
       "<style scoped>\n",
       "    .dataframe tbody tr th:only-of-type {\n",
       "        vertical-align: middle;\n",
       "    }\n",
       "\n",
       "    .dataframe tbody tr th {\n",
       "        vertical-align: top;\n",
       "    }\n",
       "\n",
       "    .dataframe thead th {\n",
       "        text-align: right;\n",
       "    }\n",
       "</style>\n",
       "<table border=\"1\" class=\"dataframe\">\n",
       "  <thead>\n",
       "    <tr style=\"text-align: right;\">\n",
       "      <th></th>\n",
       "      <th>count</th>\n",
       "      <th>mean</th>\n",
       "      <th>median</th>\n",
       "      <th>mode</th>\n",
       "      <th>range</th>\n",
       "      <th>sample std</th>\n",
       "    </tr>\n",
       "  </thead>\n",
       "  <tbody>\n",
       "    <tr>\n",
       "      <th>0</th>\n",
       "      <td>767</td>\n",
       "      <td>120.859</td>\n",
       "      <td>117.0</td>\n",
       "      <td>100</td>\n",
       "      <td>199</td>\n",
       "      <td>31.978</td>\n",
       "    </tr>\n",
       "  </tbody>\n",
       "</table>\n",
       "</div>"
      ],
      "text/plain": [
       "   count     mean  median  mode  range  sample std\n",
       "0    767  120.859   117.0   100    199      31.978"
      ]
     },
     "execution_count": 48,
     "metadata": {},
     "output_type": "execute_result"
    }
   ],
   "source": [
    "descriptive_stats(data['Glucose'])"
   ]
  },
  {
   "cell_type": "code",
   "execution_count": 49,
   "id": "a018cd44",
   "metadata": {},
   "outputs": [
    {
     "data": {
      "text/html": [
       "<div>\n",
       "<style scoped>\n",
       "    .dataframe tbody tr th:only-of-type {\n",
       "        vertical-align: middle;\n",
       "    }\n",
       "\n",
       "    .dataframe tbody tr th {\n",
       "        vertical-align: top;\n",
       "    }\n",
       "\n",
       "    .dataframe thead th {\n",
       "        text-align: right;\n",
       "    }\n",
       "</style>\n",
       "<table border=\"1\" class=\"dataframe\">\n",
       "  <thead>\n",
       "    <tr style=\"text-align: right;\">\n",
       "      <th></th>\n",
       "      <th>count</th>\n",
       "      <th>mean</th>\n",
       "      <th>median</th>\n",
       "      <th>mode</th>\n",
       "      <th>range</th>\n",
       "      <th>sample std</th>\n",
       "    </tr>\n",
       "  </thead>\n",
       "  <tbody>\n",
       "    <tr>\n",
       "      <th>0</th>\n",
       "      <td>767</td>\n",
       "      <td>69.102</td>\n",
       "      <td>72.0</td>\n",
       "      <td>70</td>\n",
       "      <td>122</td>\n",
       "      <td>19.368</td>\n",
       "    </tr>\n",
       "  </tbody>\n",
       "</table>\n",
       "</div>"
      ],
      "text/plain": [
       "   count    mean  median  mode  range  sample std\n",
       "0    767  69.102    72.0    70    122      19.368"
      ]
     },
     "execution_count": 49,
     "metadata": {},
     "output_type": "execute_result"
    }
   ],
   "source": [
    "descriptive_stats(data['BloodPressure'])"
   ]
  },
  {
   "cell_type": "code",
   "execution_count": 58,
   "id": "e6f12426",
   "metadata": {},
   "outputs": [
    {
     "data": {
      "image/png": "[encoded data removed]",
      "text/plain": [
       "<Figure size 432x288 with 1 Axes>"
      ]
     },
     "metadata": {
      "needs_background": "light"
     },
     "output_type": "display_data"
    },
    {
     "data": {
      "image/png": "[encoded data removed]",
      "text/plain": [
       "<Figure size 432x288 with 1 Axes>"
      ]
     },
     "metadata": {
      "needs_background": "light"
     },
     "output_type": "display_data"
    }
   ],
   "source": [
    "#histogram for the Diastolic blood pressure\n",
    "\n",
    "\n",
    "plt.hist(data['BloodPressure'], bins = 20, color='c', edgecolor='k', alpha=0.7 )\n",
    "  \n",
    "plt.xlabel('Diastolic blood pressure (mm Hg)')\n",
    "plt.ylabel('Frequency(number of individuals)')\n",
    "\n",
    "#plotting the line representing the mean\n",
    "plt.axvline(data['BloodPressure'].mean(), color='k', linestyle='dashed', linewidth=1) \n",
    "\n",
    "#adjusting the text \n",
    "min_ylim, max_ylim = plt.ylim()\n",
    "plt.text(data['BloodPressure'].mean()*1.1, max_ylim*0.9,'Mean: {:.3f}'.format(data['BloodPressure'].mean()))\n",
    "\n",
    "plt.title('The absolute frequency corresponding to each measure of the Diastolic blood pressure')\n",
    "plt.show()\n",
    "\n",
    "\n",
    "\n",
    "#histogram for the Plasma Glucose Concentration \n",
    "\n",
    "plt.hist(data['Glucose'], bins = 20, color='b', edgecolor='k', alpha=0.5 )\n",
    "  \n",
    "plt.xlabel('Plasma Glucose Concentration (mg/dL)')\n",
    "plt.ylabel('Frequency(number of individuals)')\n",
    "\n",
    "#plotting the line representing the mean\n",
    "plt.axvline(data['Glucose'].mean(), color='k', linestyle='dashed', linewidth=1) \n",
    "\n",
    "#adjusting the text \n",
    "min_ylim, max_ylim = plt.ylim()\n",
    "plt.text(data['Glucose'].mean()*1.1, max_ylim*0.9,'Mean: {:.3f}'.format(data['Glucose'].mean()))\n",
    "\n",
    "plt.title('The absolute frequency corresponding to each measure of Plasma Glucose Concentration ')\n",
    "plt.show()"
   ]
  },
  {
   "cell_type": "markdown",
   "id": "cabc76e1",
   "metadata": {},
   "source": [
    "Data visualization and descriptive statistics after removing the zero values representing non-true outliers\n",
    "\n"
   ]
  },
  {
   "cell_type": "code",
   "execution_count": 50,
   "id": "95f93c36",
   "metadata": {},
   "outputs": [
    {
     "name": "stdout",
     "output_type": "stream",
     "text": [
      "The new sample size =  727\n"
     ]
    }
   ],
   "source": [
    "#delete the rows that have value of zero for either the predictor or the reponse variable\n",
    "\n",
    "new_data = data[(data['Glucose'] > 0) & ((data['BloodPressure'] > 0))] \n",
    "\n",
    "\n",
    "#print the new sample size\n",
    "print(\"The new sample size = \", len(new_data))\n"
   ]
  },
  {
   "cell_type": "code",
   "execution_count": 51,
   "id": "bc206b9f",
   "metadata": {},
   "outputs": [
    {
     "data": {
      "text/html": [
       "<div>\n",
       "<style scoped>\n",
       "    .dataframe tbody tr th:only-of-type {\n",
       "        vertical-align: middle;\n",
       "    }\n",
       "\n",
       "    .dataframe tbody tr th {\n",
       "        vertical-align: top;\n",
       "    }\n",
       "\n",
       "    .dataframe thead th {\n",
       "        text-align: right;\n",
       "    }\n",
       "</style>\n",
       "<table border=\"1\" class=\"dataframe\">\n",
       "  <thead>\n",
       "    <tr style=\"text-align: right;\">\n",
       "      <th></th>\n",
       "      <th>Glucose</th>\n",
       "      <th>BloodPressure</th>\n",
       "    </tr>\n",
       "  </thead>\n",
       "  <tbody>\n",
       "    <tr>\n",
       "      <th>count</th>\n",
       "      <td>727.000000</td>\n",
       "      <td>727.000000</td>\n",
       "    </tr>\n",
       "    <tr>\n",
       "      <th>mean</th>\n",
       "      <td>121.837689</td>\n",
       "      <td>72.438790</td>\n",
       "    </tr>\n",
       "    <tr>\n",
       "      <th>std</th>\n",
       "      <td>30.684991</td>\n",
       "      <td>12.394626</td>\n",
       "    </tr>\n",
       "    <tr>\n",
       "      <th>min</th>\n",
       "      <td>44.000000</td>\n",
       "      <td>24.000000</td>\n",
       "    </tr>\n",
       "    <tr>\n",
       "      <th>25%</th>\n",
       "      <td>100.000000</td>\n",
       "      <td>64.000000</td>\n",
       "    </tr>\n",
       "    <tr>\n",
       "      <th>50%</th>\n",
       "      <td>117.000000</td>\n",
       "      <td>72.000000</td>\n",
       "    </tr>\n",
       "    <tr>\n",
       "      <th>75%</th>\n",
       "      <td>141.000000</td>\n",
       "      <td>80.000000</td>\n",
       "    </tr>\n",
       "    <tr>\n",
       "      <th>max</th>\n",
       "      <td>199.000000</td>\n",
       "      <td>122.000000</td>\n",
       "    </tr>\n",
       "  </tbody>\n",
       "</table>\n",
       "</div>"
      ],
      "text/plain": [
       "          Glucose  BloodPressure\n",
       "count  727.000000     727.000000\n",
       "mean   121.837689      72.438790\n",
       "std     30.684991      12.394626\n",
       "min     44.000000      24.000000\n",
       "25%    100.000000      64.000000\n",
       "50%    117.000000      72.000000\n",
       "75%    141.000000      80.000000\n",
       "max    199.000000     122.000000"
      ]
     },
     "execution_count": 51,
     "metadata": {},
     "output_type": "execute_result"
    }
   ],
   "source": [
    "#get descriptive stats for the 2 variables\n",
    "\n",
    "new_data.loc[:,['Glucose', 'BloodPressure']].describe()"
   ]
  },
  {
   "cell_type": "code",
   "execution_count": 52,
   "id": "f3a8ef95",
   "metadata": {},
   "outputs": [
    {
     "data": {
      "text/html": [
       "<div>\n",
       "<style scoped>\n",
       "    .dataframe tbody tr th:only-of-type {\n",
       "        vertical-align: middle;\n",
       "    }\n",
       "\n",
       "    .dataframe tbody tr th {\n",
       "        vertical-align: top;\n",
       "    }\n",
       "\n",
       "    .dataframe thead th {\n",
       "        text-align: right;\n",
       "    }\n",
       "</style>\n",
       "<table border=\"1\" class=\"dataframe\">\n",
       "  <thead>\n",
       "    <tr style=\"text-align: right;\">\n",
       "      <th></th>\n",
       "      <th>count</th>\n",
       "      <th>mean</th>\n",
       "      <th>median</th>\n",
       "      <th>mode</th>\n",
       "      <th>range</th>\n",
       "      <th>sample std</th>\n",
       "    </tr>\n",
       "  </thead>\n",
       "  <tbody>\n",
       "    <tr>\n",
       "      <th>0</th>\n",
       "      <td>727</td>\n",
       "      <td>121.838</td>\n",
       "      <td>117.0</td>\n",
       "      <td>100</td>\n",
       "      <td>155</td>\n",
       "      <td>30.685</td>\n",
       "    </tr>\n",
       "  </tbody>\n",
       "</table>\n",
       "</div>"
      ],
      "text/plain": [
       "   count     mean  median  mode  range  sample std\n",
       "0    727  121.838   117.0   100    155      30.685"
      ]
     },
     "execution_count": 52,
     "metadata": {},
     "output_type": "execute_result"
    }
   ],
   "source": [
    "descriptive_stats(new_data['Glucose'])"
   ]
  },
  {
   "cell_type": "code",
   "execution_count": 53,
   "id": "e14cf10f",
   "metadata": {},
   "outputs": [
    {
     "data": {
      "text/html": [
       "<div>\n",
       "<style scoped>\n",
       "    .dataframe tbody tr th:only-of-type {\n",
       "        vertical-align: middle;\n",
       "    }\n",
       "\n",
       "    .dataframe tbody tr th {\n",
       "        vertical-align: top;\n",
       "    }\n",
       "\n",
       "    .dataframe thead th {\n",
       "        text-align: right;\n",
       "    }\n",
       "</style>\n",
       "<table border=\"1\" class=\"dataframe\">\n",
       "  <thead>\n",
       "    <tr style=\"text-align: right;\">\n",
       "      <th></th>\n",
       "      <th>count</th>\n",
       "      <th>mean</th>\n",
       "      <th>median</th>\n",
       "      <th>mode</th>\n",
       "      <th>range</th>\n",
       "      <th>sample std</th>\n",
       "    </tr>\n",
       "  </thead>\n",
       "  <tbody>\n",
       "    <tr>\n",
       "      <th>0</th>\n",
       "      <td>727</td>\n",
       "      <td>72.439</td>\n",
       "      <td>72.0</td>\n",
       "      <td>70</td>\n",
       "      <td>98</td>\n",
       "      <td>12.395</td>\n",
       "    </tr>\n",
       "  </tbody>\n",
       "</table>\n",
       "</div>"
      ],
      "text/plain": [
       "   count    mean  median  mode  range  sample std\n",
       "0    727  72.439    72.0    70     98      12.395"
      ]
     },
     "execution_count": 53,
     "metadata": {},
     "output_type": "execute_result"
    }
   ],
   "source": [
    "descriptive_stats(new_data['BloodPressure'])"
   ]
  },
  {
   "cell_type": "code",
   "execution_count": 200,
   "id": "f0a9db0e",
   "metadata": {},
   "outputs": [
    {
     "data": {
      "image/png": "[encoded data removed]",
      "text/plain": [
       "<Figure size 432x288 with 1 Axes>"
      ]
     },
     "metadata": {
      "needs_background": "light"
     },
     "output_type": "display_data"
    },
    {
     "data": {
      "image/png": "[encoded data removed]",
      "text/plain": [
       "<Figure size 432x288 with 1 Axes>"
      ]
     },
     "metadata": {
      "needs_background": "light"
     },
     "output_type": "display_data"
    }
   ],
   "source": [
    "#histogram for the Diastolic blood pressure\n",
    "\n",
    "\n",
    "plt.hist(new_data['BloodPressure'], bins = 20, color='c', edgecolor='k', alpha=0.7 )\n",
    "  \n",
    "plt.xlabel('Diastolic blood pressure (mm Hg)')\n",
    "plt.ylabel('Frequency(number of individuals)')\n",
    "\n",
    "#plotting the line representing the mean\n",
    "plt.axvline(new_data['BloodPressure'].mean(), color='k', linestyle='dashed', linewidth=1) \n",
    "\n",
    "#adjusting the text \n",
    "min_ylim, max_ylim = plt.ylim()\n",
    "plt.text(new_data['BloodPressure'].mean()*1.1, max_ylim*0.9,'Mean: {:.3f}'.format(new_data['BloodPressure'].mean()))\n",
    "\n",
    "plt.title('The absolute frequency corresponding to each measure of the Diastolic blood pressure')\n",
    "plt.show()\n",
    "\n",
    "\n",
    "\n",
    "#histogram for the Plasma Glucose Concentration \n",
    "\n",
    "plt.hist(new_data['Glucose'], bins = 20, color='b', edgecolor='k', alpha=0.5 )\n",
    "  \n",
    "plt.xlabel('Plasma Glucose Concentration (mg/dL)')\n",
    "plt.ylabel('Frequency(number of individuals)')\n",
    "\n",
    "#plotting the line representing the mean\n",
    "plt.axvline(new_data['Glucose'].mean(), color='k', linestyle='dashed', linewidth=1) \n",
    "\n",
    "#adjusting the text \n",
    "min_ylim, max_ylim = plt.ylim()\n",
    "plt.text(new_data['Glucose'].mean()*1.1, max_ylim*0.9,'Mean: {:.3f}'.format(new_data['Glucose'].mean()))\n",
    "\n",
    "plt.title('The absolute frequency corresponding to each measure of Plasma Glucose Concentration ')\n",
    "plt.show()"
   ]
  },
  {
   "cell_type": "markdown",
   "id": "a14251bf",
   "metadata": {},
   "source": [
    "Appendix B : Correlation Analysis"
   ]
  },
  {
   "cell_type": "code",
   "execution_count": 118,
   "id": "fa046d47",
   "metadata": {},
   "outputs": [],
   "source": [
    "#get pearson's r via calculating the standard units\n",
    "\n",
    "def pearson_r (column_a, column_b):\n",
    "    \n",
    "    list_var1 = new_data[column_a].tolist()\n",
    "    list_var2 = new_data[column_b].tolist()\n",
    "    \n",
    "    # the mean for both x and y variables\n",
    "    mean_x = np.mean(list_var1)\n",
    "    mean_y = np.mean(list_var2)\n",
    "    \n",
    "    # the standard deviation for both x and y variables\n",
    "    sd_x = np.std(list_var1)\n",
    "    sd_y = np.std(list_var2)\n",
    "       \n",
    "    #convert to standard units\n",
    "    product = []\n",
    "    for i in range(len(list_var1)):\n",
    "        var1_sd = (list_var1[i] - mean_x)/ sd_x\n",
    "        var2_sd = (list_var2[i] - mean_y)/ sd_y\n",
    "        product.append (var1_sd * var2_sd)  \n",
    "        \n",
    "    r_value = sum(product) / len(product)\n",
    "    \n",
    "    return round (r_value , 3)\n",
    "\n"
   ]
  },
  {
   "cell_type": "code",
   "execution_count": 119,
   "id": "b952084f",
   "metadata": {},
   "outputs": [
    {
     "data": {
      "text/plain": [
       "0.223"
      ]
     },
     "execution_count": 119,
     "metadata": {},
     "output_type": "execute_result"
    }
   ],
   "source": [
    "#call the function to return the correlation coefficient\n",
    "pearson_r ('Glucose', 'BloodPressure')"
   ]
  },
  {
   "cell_type": "code",
   "execution_count": 186,
   "id": "37fd1c8c",
   "metadata": {},
   "outputs": [],
   "source": [
    "#get pearson's r via .corr() method and make a scatter plot for two variables\n",
    "\n",
    "def corr_scatter(column_a, column_b):\n",
    "    print(\"\\nThe pearson's r value comparing\", [column_a] , \"to\", [column_b] , \"is:\",round(new_data[column_a].corr(new_data[column_b]),3))\n",
    "    sns.regplot(x= column_a, y= column_b, data=new_data, marker=\"+\", x_jitter=.25, y_jitter=.25, color= 'b') # jitter is added to offset data points that are potentially overlapping due to discreteness.\n",
    "    \n",
    "    \n"
   ]
  },
  {
   "cell_type": "code",
   "execution_count": 187,
   "id": "966bf3f4",
   "metadata": {},
   "outputs": [
    {
     "name": "stdout",
     "output_type": "stream",
     "text": [
      "\n",
      "The pearson's r value comparing ['Glucose'] to ['BloodPressure'] is: 0.223\n"
     ]
    },
    {
     "data": {
      "image/png": "[encoded data removed]",
      "text/plain": [
       "<Figure size 432x288 with 1 Axes>"
      ]
     },
     "metadata": {
      "needs_background": "light"
     },
     "output_type": "display_data"
    }
   ],
   "source": [
    "#call the function to return the correlation coefficient  \n",
    "corr_scatter('Glucose' , 'BloodPressure')"
   ]
  },
  {
   "cell_type": "markdown",
   "id": "20090da3",
   "metadata": {},
   "source": [
    "Appendix C : Constructing the Regression Model & Conditions check for the least squares line"
   ]
  },
  {
   "cell_type": "code",
   "execution_count": 202,
   "id": "38f00c2b",
   "metadata": {},
   "outputs": [],
   "source": [
    "#simple linear regression\n",
    "\n",
    "def regression_model(column_x, column_y):\n",
    "    \n",
    "    # this function creates a scatter plot, plots of the residuals, compute R-squared, and display the regression equation\n",
    "\n",
    "    # fit the regression line using \"statsmodels\" library:\n",
    "    X = statsmodels.add_constant(new_data[column_x])\n",
    "    Y = new_data[column_y]\n",
    "    regressionmodel = statsmodels.OLS(Y,X).fit() #OLS stands for \"ordinary least squares\"\n",
    "\n",
    "    # extract regression parameters from model, rounded to 3 decimal places\n",
    "    Rsquared = round(regressionmodel.rsquared,3)\n",
    "    slope = round(regressionmodel.params[1],3)\n",
    "    intercept = round(regressionmodel.params[0],3)\n",
    "\n",
    "    # make plots\n",
    "    fig, (ax1, ax2) = plt.subplots(ncols=2, sharex=True, figsize=(12,4))\n",
    "    sns.regplot(x=column_x, y=column_y, data=new_data, marker=\"+\", ax=ax1) # plot data and a linear regression model fit\n",
    "    \n",
    "    # Set x-axis and y-axis labels\n",
    "\n",
    "    ax1.set(xlabel = 'Plasma Glucose Concentration (mg/dL)', ylabel='Diastolic blood pressure (mm Hg)')\n",
    "    \n",
    "    sns.residplot(x=column_x, y=column_y, data=new_data, ax=ax2) # residual plot\n",
    "    ax2.set(ylabel='Residuals')\n",
    "    ax2.set_ylim(min(regressionmodel.resid)-1,max(regressionmodel.resid)+1)\n",
    "    \n",
    "\n",
    "  \n",
    "    \n",
    "    plt.figure() # histogram\n",
    "    sns.distplot(regressionmodel.resid, kde=True, axlabel='Residuals', color='red') # histogram\n",
    "\n",
    "\n",
    "             # QQ plot\n",
    "    qqplot = statsmodels.qqplot(regressionmodel.resid,fit=True,line='45')\n",
    "    qqplot.suptitle(\"Normal Probability (\\\"QQ\\\") Plot for Residuals\",fontweight='bold',fontsize=14)\n",
    "    \n",
    "\n",
    "    # print the model results\n",
    "    print(\"R-squared = \",Rsquared)\n",
    "    print(\"Regression equation: \"+column_y+\" = \",slope,\"* \"+column_x+ \" + \",intercept)"
   ]
  },
  {
   "cell_type": "code",
   "execution_count": 203,
   "id": "fc90b109",
   "metadata": {
    "scrolled": false
   },
   "outputs": [
    {
     "name": "stderr",
     "output_type": "stream",
     "text": [
      "/Users/rwankhalifa/opt/anaconda3/lib/python3.9/site-packages/seaborn/distributions.py:2619: FutureWarning: `distplot` is a deprecated function and will be removed in a future version. Please adapt your code to use either `displot` (a figure-level function with similar flexibility) or `histplot` (an axes-level function for histograms).\n",
      "  warnings.warn(msg, FutureWarning)\n"
     ]
    },
    {
     "name": "stdout",
     "output_type": "stream",
     "text": [
      "R-squared =  0.05\n",
      "Regression equation: BloodPressure =  0.09 * Glucose +  61.447\n"
     ]
    },
    {
     "data": {
      "image/png": "[encoded data removed]",
      "text/plain": [
       "<Figure size 864x288 with 2 Axes>"
      ]
     },
     "metadata": {
      "needs_background": "light"
     },
     "output_type": "display_data"
    },
    {
     "data": {
      "image/png": "[encoded data removed]",
      "text/plain": [
       "<Figure size 432x288 with 1 Axes>"
      ]
     },
     "metadata": {
      "needs_background": "light"
     },
     "output_type": "display_data"
    },
    {
     "data": {
      "image/png": "[encoded data removed]",
      "text/plain": [
       "<Figure size 432x288 with 1 Axes>"
      ]
     },
     "metadata": {
      "needs_background": "light"
     },
     "output_type": "display_data"
    }
   ],
   "source": [
    "#call the function to display the plots, R-squared and the regression equation\n",
    "regression_model('Glucose', 'BloodPressure')"
   ]
  },
  {
   "cell_type": "code",
   "execution_count": 190,
   "id": "d8f8a976",
   "metadata": {},
   "outputs": [],
   "source": [
    "#regression manually\n",
    "\n",
    "\n",
    "def regression(column_a, column_b):\n",
    "    \n",
    "    \n",
    "    x = new_data[column_a]\n",
    "    y = new_data[column_b]\n",
    "    \n",
    "    #add constant to predictor variables\n",
    "    x = statsmodels.add_constant(x)\n",
    "\n",
    "    #fit linear regression model\n",
    "    model = statsmodels.OLS(y, x).fit()\n",
    "    \n",
    "    y_pred = model.predict(x)\n",
    "    df = pd.DataFrame({'Actual': y, 'Predicted': y_pred})\n",
    "  \n",
    "\n",
    "    \n",
    "    #calculate SSE\n",
    "    sse = np.sum(np.square(df['Predicted'] - df['Actual']))\n",
    "\n",
    "\n",
    "    #calculate SSR\n",
    "    ssr = np.sum(np.square(df['Predicted'] - y.mean()))\n",
    "    \n",
    "    \n",
    "    #calculate SST\n",
    "    sst = ssr + sse\n",
    "    \n",
    "    #calculate r_squared\n",
    "    r_sqr =  round (ssr/sst , 4)\n",
    "    \n",
    "    return r_sqr"
   ]
  },
  {
   "cell_type": "code",
   "execution_count": 191,
   "id": "8ebf884e",
   "metadata": {},
   "outputs": [
    {
     "data": {
      "text/plain": [
       "0.0499"
      ]
     },
     "execution_count": 191,
     "metadata": {},
     "output_type": "execute_result"
    }
   ],
   "source": [
    "#call the function to return the coefficient of determination (R_squared)\n",
    "regression('Glucose', 'BloodPressure')"
   ]
  },
  {
   "cell_type": "code",
   "execution_count": 67,
   "id": "cd3dfa7c",
   "metadata": {},
   "outputs": [],
   "source": [
    "#check the sample observations are independent\n",
    "\n",
    "pop_size = 10070       #population size\n",
    "\n",
    "def is_independent(sample, population):\n",
    "    \n",
    "    #sample size\n",
    "    n = len(sample)\n",
    "    \n",
    "    #ratio of the sample size to the population size\n",
    "    ratio = n / population\n",
    "    \n",
    "    if ratio <= 0.1:\n",
    "        \n",
    "        print (\"Since the the sample size represents \", round (ratio, 3)*100 , \" % of the population, it's independent\")\n",
    "        return True\n",
    "    else:\n",
    "        \n",
    "        print (\"Since the the sample size represents \", round (ratio, 3)*100 , \" % of the population, it's not independent\")\n",
    "        return False"
   ]
  },
  {
   "cell_type": "code",
   "execution_count": 68,
   "id": "190f2faa",
   "metadata": {},
   "outputs": [
    {
     "name": "stdout",
     "output_type": "stream",
     "text": [
      "Since the the sample size represents  7.199999999999999  % of the population, it's independent\n"
     ]
    },
    {
     "data": {
      "text/plain": [
       "True"
      ]
     },
     "execution_count": 68,
     "metadata": {},
     "output_type": "execute_result"
    }
   ],
   "source": [
    "#calling the function returning whether the sample observations are independent or not\n",
    "is_independent(new_data,pop_size)"
   ]
  },
  {
   "cell_type": "markdown",
   "id": "16af1c83",
   "metadata": {},
   "source": [
    "Appendix D: Significance and confidence interval"
   ]
  },
  {
   "cell_type": "code",
   "execution_count": 192,
   "id": "e5c6b01a",
   "metadata": {},
   "outputs": [],
   "source": [
    "#defining a function to get summary information about the model \n",
    "#including the equation coefficients, R_squared, P-value , t-score and confidence intervals\n",
    "\n",
    "def regression_results(X, Y):\n",
    "    \n",
    "    X = statsmodels.add_constant(X) # if excluded, the intercept would be 0\n",
    "    model = statsmodels.OLS(Y, X).fit()\n",
    "    return model.summary() #To get detailed information about the model, using .summary() method\n",
    "\n"
   ]
  },
  {
   "cell_type": "code",
   "execution_count": 193,
   "id": "941effab",
   "metadata": {},
   "outputs": [
    {
     "data": {
      "text/html": [
       "<table class=\"simpletable\">\n",
       "<caption>OLS Regression Results</caption>\n",
       "<tr>\n",
       "  <th>Dep. Variable:</th>      <td>BloodPressure</td>  <th>  R-squared:         </th> <td>   0.050</td>\n",
       "</tr>\n",
       "<tr>\n",
       "  <th>Model:</th>                   <td>OLS</td>       <th>  Adj. R-squared:    </th> <td>   0.049</td>\n",
       "</tr>\n",
       "<tr>\n",
       "  <th>Method:</th>             <td>Least Squares</td>  <th>  F-statistic:       </th> <td>   38.06</td>\n",
       "</tr>\n",
       "<tr>\n",
       "  <th>Date:</th>             <td>Sun, 29 Jan 2023</td> <th>  Prob (F-statistic):</th> <td>1.14e-09</td>\n",
       "</tr>\n",
       "<tr>\n",
       "  <th>Time:</th>                 <td>20:07:40</td>     <th>  Log-Likelihood:    </th> <td> -2842.5</td>\n",
       "</tr>\n",
       "<tr>\n",
       "  <th>No. Observations:</th>      <td>   727</td>      <th>  AIC:               </th> <td>   5689.</td>\n",
       "</tr>\n",
       "<tr>\n",
       "  <th>Df Residuals:</th>          <td>   725</td>      <th>  BIC:               </th> <td>   5698.</td>\n",
       "</tr>\n",
       "<tr>\n",
       "  <th>Df Model:</th>              <td>     1</td>      <th>                     </th>     <td> </td>   \n",
       "</tr>\n",
       "<tr>\n",
       "  <th>Covariance Type:</th>      <td>nonrobust</td>    <th>                     </th>     <td> </td>   \n",
       "</tr>\n",
       "</table>\n",
       "<table class=\"simpletable\">\n",
       "<tr>\n",
       "     <td></td>        <th>coef</th>     <th>std err</th>      <th>t</th>      <th>P>|t|</th>  <th>[0.025</th>    <th>0.975]</th>  \n",
       "</tr>\n",
       "<tr>\n",
       "  <th>const</th>   <td>   61.4471</td> <td>    1.837</td> <td>   33.447</td> <td> 0.000</td> <td>   57.840</td> <td>   65.054</td>\n",
       "</tr>\n",
       "<tr>\n",
       "  <th>Glucose</th> <td>    0.0902</td> <td>    0.015</td> <td>    6.170</td> <td> 0.000</td> <td>    0.062</td> <td>    0.119</td>\n",
       "</tr>\n",
       "</table>\n",
       "<table class=\"simpletable\">\n",
       "<tr>\n",
       "  <th>Omnibus:</th>       <td>17.056</td> <th>  Durbin-Watson:     </th> <td>   1.903</td>\n",
       "</tr>\n",
       "<tr>\n",
       "  <th>Prob(Omnibus):</th> <td> 0.000</td> <th>  Jarque-Bera (JB):  </th> <td>  29.939</td>\n",
       "</tr>\n",
       "<tr>\n",
       "  <th>Skew:</th>          <td> 0.135</td> <th>  Prob(JB):          </th> <td>3.15e-07</td>\n",
       "</tr>\n",
       "<tr>\n",
       "  <th>Kurtosis:</th>      <td> 3.957</td> <th>  Cond. No.          </th> <td>    515.</td>\n",
       "</tr>\n",
       "</table><br/><br/>Notes:<br/>[1] Standard Errors assume that the covariance matrix of the errors is correctly specified."
      ],
      "text/plain": [
       "<class 'statsmodels.iolib.summary.Summary'>\n",
       "\"\"\"\n",
       "                            OLS Regression Results                            \n",
       "==============================================================================\n",
       "Dep. Variable:          BloodPressure   R-squared:                       0.050\n",
       "Model:                            OLS   Adj. R-squared:                  0.049\n",
       "Method:                 Least Squares   F-statistic:                     38.06\n",
       "Date:                Sun, 29 Jan 2023   Prob (F-statistic):           1.14e-09\n",
       "Time:                        20:07:40   Log-Likelihood:                -2842.5\n",
       "No. Observations:                 727   AIC:                             5689.\n",
       "Df Residuals:                     725   BIC:                             5698.\n",
       "Df Model:                           1                                         \n",
       "Covariance Type:            nonrobust                                         \n",
       "==============================================================================\n",
       "                 coef    std err          t      P>|t|      [0.025      0.975]\n",
       "------------------------------------------------------------------------------\n",
       "const         61.4471      1.837     33.447      0.000      57.840      65.054\n",
       "Glucose        0.0902      0.015      6.170      0.000       0.062       0.119\n",
       "==============================================================================\n",
       "Omnibus:                       17.056   Durbin-Watson:                   1.903\n",
       "Prob(Omnibus):                  0.000   Jarque-Bera (JB):               29.939\n",
       "Skew:                           0.135   Prob(JB):                     3.15e-07\n",
       "Kurtosis:                       3.957   Cond. No.                         515.\n",
       "==============================================================================\n",
       "\n",
       "Notes:\n",
       "[1] Standard Errors assume that the covariance matrix of the errors is correctly specified.\n",
       "\"\"\""
      ]
     },
     "execution_count": 193,
     "metadata": {},
     "output_type": "execute_result"
    }
   ],
   "source": [
    "#calling the function to get model's summary information\n",
    "regression_results(new_data['Glucose'], new_data['BloodPressure'])"
   ]
  },
  {
   "cell_type": "code",
   "execution_count": 198,
   "id": "3975bd68",
   "metadata": {},
   "outputs": [],
   "source": [
    "#Calculating the model's summery information without statsmodels library (with the formulas)\n",
    "\n",
    "def significance(predictor, response, tails):\n",
    "    \n",
    "    #calculte pearson's correlation coefficient\n",
    "    r = new_data[predictor].corr(new_data[response])\n",
    "    print (\"Pearson's r =\" , r)\n",
    "    \n",
    "    #2 variables means\n",
    "    x_bar = np.mean(new_data[predictor])\n",
    "    y_bar = np.mean(new_data[response])\n",
    "    \n",
    "    #2 variables standard deviation\n",
    "    sx = np.std(new_data[predictor], ddof =1)  #Bassel's correction applied(dealing with the sample not the population)\n",
    "    sy = np.std(new_data[response], ddof =1)\n",
    "    \n",
    "    \n",
    "    #sample size\n",
    "    n = len(new_data) \n",
    "    \n",
    "    #the point-estimate for the slope\n",
    "    b1 = (sy/sx) * r \n",
    "    print(\"b1 =\", b1)\n",
    "    \n",
    "    #standard error \n",
    "    SE = (sy/sx)*((1-r**2)/ (n-2))**0.5  \n",
    "    print(\"SE =\",SE)\n",
    "    \n",
    "    #t-score based on the observed slope value\n",
    "    t = b1 / SE  \n",
    "    print(\"T score =\",t)\n",
    "    \n",
    "    \n",
    "    # t-score for the 95% confidence level (to be used in the confidence interval)\n",
    "    t_value =  stats.t.ppf(0.975,n-2)  \n",
    "    \n",
    "    #calculate the upper and lowe bound for the confidence interval\n",
    "    lower_bound = b1 - t_value*SE\n",
    "    upper_bound = b1 + t_value*SE\n",
    "    \n",
    "\n",
    "\n",
    "    print(\"Slope's confidence interval =\", [lower_bound,upper_bound])\n",
    "\n",
    "    print (\"P-value =\" , (1 - stats.t.cdf(t, n-2))*tails)\n",
    "    \n",
    "    "
   ]
  },
  {
   "cell_type": "code",
   "execution_count": 199,
   "id": "14214285",
   "metadata": {},
   "outputs": [
    {
     "name": "stdout",
     "output_type": "stream",
     "text": [
      "Pearson's r = 0.22334504843722952\n",
      "b1 = 0.090216040780694\n",
      "SE = 0.014622679923726819\n",
      "T score = 6.169596903663952\n",
      "Slope's confidence interval = [0.06150818930840929, 0.11892389225297872]\n",
      "P-value = 5.689727577973258e-10\n"
     ]
    }
   ],
   "source": [
    "#calling the function to get the model's summery information\n",
    "significance('Glucose', 'BloodPressure', 1)"
   ]
  },
  {
   "cell_type": "code",
   "execution_count": null,
   "id": "ad917761",
   "metadata": {},
   "outputs": [],
   "source": []
  }
 ],
 "metadata": {
  "kernelspec": {
   "display_name": "Python 3 (ipykernel)",
   "language": "python",
   "name": "python3"
  },
  "language_info": {
   "codemirror_mode": {
    "name": "ipython",
    "version": 3
   },
   "file_extension": ".py",
   "mimetype": "text/x-python",
   "name": "python",
   "nbconvert_exporter": "python",
   "pygments_lexer": "ipython3",
   "version": "3.9.12"
  }
 },
 "nbformat": 4,
 "nbformat_minor": 5
}
